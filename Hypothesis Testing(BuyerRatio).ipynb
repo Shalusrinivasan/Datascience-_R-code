{
  "cells": [
    {
      "cell_type": "markdown",
      "metadata": {
        "id": "view-in-github",
        "colab_type": "text"
      },
      "source": [
        "<a href=\"https://colab.research.google.com/github/Shalusrinivasan/Datascience-_R-code/blob/main/Hypothesis%20Testing(BuyerRatio).ipynb\" target=\"_parent\"><img src=\"https://colab.research.google.com/assets/colab-badge.svg\" alt=\"Open In Colab\"/></a>"
      ]
    },
    {
      "metadata": {
        "trusted": true,
        "id": "u-DHQHYpGSy-"
      },
      "cell_type": "code",
      "source": [
        "import pandas as pd\n",
        "from scipy import stats as stats\n",
        "import numpy as np"
      ],
      "execution_count": null,
      "outputs": []
    },
    {
      "metadata": {
        "scrolled": true,
        "trusted": true,
        "id": "92vt36i8GSzG"
      },
      "cell_type": "code",
      "source": [
        "df= pd.read_csv('C:/Users/Admin/Downloads/BuyerRatio.csv')"
      ],
      "execution_count": null,
      "outputs": []
    },
    {
      "metadata": {
        "trusted": true,
        "id": "hpkJMe7cGSzI",
        "outputId": "fef56f3b-8fc5-42e3-9711-4ad3068a7510"
      },
      "cell_type": "code",
      "source": [
        "df.head()"
      ],
      "execution_count": null,
      "outputs": [
        {
          "data": {
            "text/html": "<div>\n<style scoped>\n    .dataframe tbody tr th:only-of-type {\n        vertical-align: middle;\n    }\n\n    .dataframe tbody tr th {\n        vertical-align: top;\n    }\n\n    .dataframe thead th {\n        text-align: right;\n    }\n</style>\n<table border=\"1\" class=\"dataframe\">\n  <thead>\n    <tr style=\"text-align: right;\">\n      <th></th>\n      <th>Observed Values</th>\n      <th>East</th>\n      <th>West</th>\n      <th>North</th>\n      <th>South</th>\n    </tr>\n  </thead>\n  <tbody>\n    <tr>\n      <th>0</th>\n      <td>Males</td>\n      <td>50</td>\n      <td>142</td>\n      <td>131</td>\n      <td>70</td>\n    </tr>\n    <tr>\n      <th>1</th>\n      <td>Females</td>\n      <td>435</td>\n      <td>1523</td>\n      <td>1356</td>\n      <td>750</td>\n    </tr>\n  </tbody>\n</table>\n</div>",
            "text/plain": "  Observed Values  East  West  North  South\n0           Males    50   142    131     70\n1         Females   435  1523   1356    750"
          },
          "execution_count": 3,
          "metadata": {},
          "output_type": "execute_result"
        }
      ]
    },
    {
      "metadata": {
        "trusted": true,
        "id": "htifM0LuGSzK",
        "outputId": "a6364308-751f-4f50-b6a2-a8d58fc0ba4d"
      },
      "cell_type": "code",
      "source": [
        "df_table=df.iloc[:,1:6]\n",
        "df_table"
      ],
      "execution_count": null,
      "outputs": [
        {
          "data": {
            "text/html": "<div>\n<style scoped>\n    .dataframe tbody tr th:only-of-type {\n        vertical-align: middle;\n    }\n\n    .dataframe tbody tr th {\n        vertical-align: top;\n    }\n\n    .dataframe thead th {\n        text-align: right;\n    }\n</style>\n<table border=\"1\" class=\"dataframe\">\n  <thead>\n    <tr style=\"text-align: right;\">\n      <th></th>\n      <th>East</th>\n      <th>West</th>\n      <th>North</th>\n      <th>South</th>\n    </tr>\n  </thead>\n  <tbody>\n    <tr>\n      <th>0</th>\n      <td>50</td>\n      <td>142</td>\n      <td>131</td>\n      <td>70</td>\n    </tr>\n    <tr>\n      <th>1</th>\n      <td>435</td>\n      <td>1523</td>\n      <td>1356</td>\n      <td>750</td>\n    </tr>\n  </tbody>\n</table>\n</div>",
            "text/plain": "   East  West  North  South\n0    50   142    131     70\n1   435  1523   1356    750"
          },
          "execution_count": 4,
          "metadata": {},
          "output_type": "execute_result"
        }
      ]
    },
    {
      "metadata": {
        "trusted": true,
        "id": "mFt-IxsFGSzM",
        "outputId": "ba8a3154-741e-4896-be2a-e56d95764ff4"
      },
      "cell_type": "code",
      "source": [
        "df_table.values"
      ],
      "execution_count": null,
      "outputs": [
        {
          "data": {
            "text/plain": "array([[  50,  142,  131,   70],\n       [ 435, 1523, 1356,  750]], dtype=int64)"
          },
          "execution_count": 5,
          "metadata": {},
          "output_type": "execute_result"
        }
      ]
    },
    {
      "metadata": {
        "trusted": true,
        "id": "_s4vNkQhGSzN"
      },
      "cell_type": "code",
      "source": [
        "val=stats.chi2_contingency(df_table)"
      ],
      "execution_count": null,
      "outputs": []
    },
    {
      "metadata": {
        "trusted": true,
        "id": "MtD0mp5RGSzO",
        "outputId": "38f7d93f-1dd2-49b1-e093-56c1797c768c"
      },
      "cell_type": "code",
      "source": [
        "val"
      ],
      "execution_count": null,
      "outputs": [
        {
          "data": {
            "text/plain": "(1.595945538661058,\n 0.6603094907091882,\n 3,\n array([[  42.76531299,  146.81287862,  131.11756787,   72.30424052],\n        [ 442.23468701, 1518.18712138, 1355.88243213,  747.69575948]]))"
          },
          "execution_count": 37,
          "metadata": {},
          "output_type": "execute_result"
        }
      ]
    },
    {
      "metadata": {
        "trusted": true,
        "id": "Wwikk6j0GSzQ",
        "outputId": "e91df4f0-0daa-4d1f-86e1-0b52acf06740"
      },
      "cell_type": "code",
      "source": [
        "type(val)"
      ],
      "execution_count": null,
      "outputs": [
        {
          "data": {
            "text/plain": "tuple"
          },
          "execution_count": 36,
          "metadata": {},
          "output_type": "execute_result"
        }
      ]
    },
    {
      "metadata": {
        "trusted": true,
        "id": "gN26TkcgGSzS",
        "outputId": "d45b4c56-14ff-4921-96bc-ee036657da0b"
      },
      "cell_type": "code",
      "source": [
        "no_of_rows=len(df_table.iloc[0:2,0])\n",
        "no_of_columns=len(df_table.iloc[0,0:4])\n",
        "degree_of_f=(no_of_rows-1)*(no_of_columns-1)\n",
        "print('Degree of Freedom=',degree_of_f)\n"
      ],
      "execution_count": null,
      "outputs": [
        {
          "name": "stdout",
          "output_type": "stream",
          "text": "Degree of Freedom= 3\n"
        }
      ]
    },
    {
      "metadata": {
        "trusted": true,
        "id": "Q71WipXHGSzU"
      },
      "cell_type": "code",
      "source": [
        "Expected_value=val[3]"
      ],
      "execution_count": null,
      "outputs": []
    },
    {
      "metadata": {
        "trusted": true,
        "id": "ml7R831dGSzU",
        "outputId": "b05fcfff-d370-4371-bf3c-27944bdf0854"
      },
      "cell_type": "code",
      "source": [
        "Expected_value"
      ],
      "execution_count": null,
      "outputs": [
        {
          "data": {
            "text/plain": "array([[  42.76531299,  146.81287862,  131.11756787,   72.30424052],\n       [ 442.23468701, 1518.18712138, 1355.88243213,  747.69575948]])"
          },
          "execution_count": 10,
          "metadata": {},
          "output_type": "execute_result"
        }
      ]
    },
    {
      "metadata": {
        "trusted": true,
        "id": "A55vvDHVGSzV",
        "outputId": "4d8b3bf4-aa5a-41cb-953c-ecbc43332a0b"
      },
      "cell_type": "code",
      "source": [
        "from scipy.stats import chi2\n",
        "chi_square=sum([(o-e)**2/e for o,e in zip(df_table.values,Expected_value)])\n",
        "chi_square_statestic=chi_square[0]+chi_square[1]\n",
        "chi_square_statestic"
      ],
      "execution_count": null,
      "outputs": [
        {
          "data": {
            "text/plain": "1.5152956451130446"
          },
          "execution_count": 12,
          "metadata": {},
          "output_type": "execute_result"
        }
      ]
    },
    {
      "metadata": {
        "trusted": true,
        "id": "0pm-xEY0GSzW",
        "outputId": "d24b5c27-106a-4067-dbae-308eb3d5494a"
      },
      "cell_type": "code",
      "source": [
        "critical_value=chi2.ppf(0.95,3)\n",
        "critical_value"
      ],
      "execution_count": null,
      "outputs": [
        {
          "data": {
            "text/plain": "7.814727903251179"
          },
          "execution_count": 17,
          "metadata": {},
          "output_type": "execute_result"
        }
      ]
    },
    {
      "metadata": {
        "trusted": true,
        "id": "sC2eTfL9GSzX",
        "outputId": "0978880f-cb21-4244-965d-1e9435df9238"
      },
      "cell_type": "code",
      "source": [
        "if chi_square_statestic >= critical_value:\n",
        "\tprint('Dependent (reject H0)')\n",
        "else:\n",
        "\tprint('Independent (fail to reject H0)')"
      ],
      "execution_count": null,
      "outputs": [
        {
          "name": "stdout",
          "output_type": "stream",
          "text": "Independent (fail to reject H0)\n"
        }
      ]
    },
    {
      "metadata": {
        "trusted": true,
        "id": "TV4P6HDdGSzY",
        "outputId": "9c774a69-592e-41a8-e3a9-902d28e747b0"
      },
      "cell_type": "code",
      "source": [
        "pvalue=1-chi2.cdf(chi_square_statestic,3)\n",
        "pvalue"
      ],
      "execution_count": null,
      "outputs": [
        {
          "data": {
            "text/plain": "0.6787446296467897"
          },
          "execution_count": 30,
          "metadata": {},
          "output_type": "execute_result"
        }
      ]
    },
    {
      "metadata": {
        "trusted": true,
        "id": "-KrDNuIcGSzY",
        "outputId": "314f9781-a33a-4c76-86f7-532181fa3e0c"
      },
      "cell_type": "code",
      "source": [
        "if pvalue <= 0.05:\n",
        "\tprint('Dependent (reject H0)')\n",
        "else:\n",
        "\tprint('Independent (fail to reject H0)')"
      ],
      "execution_count": null,
      "outputs": [
        {
          "name": "stdout",
          "output_type": "stream",
          "text": "Independent (fail to reject H0)\n"
        }
      ]
    },
    {
      "metadata": {
        "trusted": true,
        "id": "JdNsLju9GSzZ"
      },
      "cell_type": "code",
      "source": [
        ""
      ],
      "execution_count": null,
      "outputs": []
    },
    {
      "metadata": {
        "trusted": true,
        "id": "zs71gL8PGSzZ"
      },
      "cell_type": "code",
      "source": [
        ""
      ],
      "execution_count": null,
      "outputs": []
    },
    {
      "metadata": {
        "trusted": true,
        "id": "WcUVIvW2GSza"
      },
      "cell_type": "code",
      "source": [
        ""
      ],
      "execution_count": null,
      "outputs": []
    },
    {
      "metadata": {
        "trusted": true,
        "id": "VkUidr2KGSza"
      },
      "cell_type": "code",
      "source": [
        ""
      ],
      "execution_count": null,
      "outputs": []
    },
    {
      "metadata": {
        "trusted": true,
        "id": "zI8eRI9UGSza"
      },
      "cell_type": "code",
      "source": [
        ""
      ],
      "execution_count": null,
      "outputs": []
    },
    {
      "metadata": {
        "trusted": true,
        "id": "qOWJchxXGSza"
      },
      "cell_type": "code",
      "source": [
        ""
      ],
      "execution_count": null,
      "outputs": []
    },
    {
      "metadata": {
        "trusted": true,
        "id": "lJJcfK2tGSza"
      },
      "cell_type": "code",
      "source": [
        ""
      ],
      "execution_count": null,
      "outputs": []
    },
    {
      "metadata": {
        "trusted": true,
        "id": "erwyvsxJGSzb"
      },
      "cell_type": "code",
      "source": [
        ""
      ],
      "execution_count": null,
      "outputs": []
    },
    {
      "metadata": {
        "trusted": true,
        "id": "hYuR9_kzGSzb"
      },
      "cell_type": "code",
      "source": [
        ""
      ],
      "execution_count": null,
      "outputs": []
    },
    {
      "metadata": {
        "trusted": true,
        "id": "_VCd-3TBGSzb"
      },
      "cell_type": "code",
      "source": [
        ""
      ],
      "execution_count": null,
      "outputs": []
    },
    {
      "metadata": {
        "trusted": true,
        "id": "3F9H1RnNGSzb"
      },
      "cell_type": "code",
      "source": [
        ""
      ],
      "execution_count": null,
      "outputs": []
    },
    {
      "metadata": {
        "trusted": true,
        "id": "6kK2801MGSzb"
      },
      "cell_type": "code",
      "source": [
        ""
      ],
      "execution_count": null,
      "outputs": []
    },
    {
      "metadata": {
        "trusted": true,
        "id": "9KyrcwG-GSzc"
      },
      "cell_type": "code",
      "source": [
        ""
      ],
      "execution_count": null,
      "outputs": []
    },
    {
      "metadata": {
        "trusted": true,
        "id": "nxOVnjGtGSzc"
      },
      "cell_type": "code",
      "source": [
        ""
      ],
      "execution_count": null,
      "outputs": []
    },
    {
      "metadata": {
        "trusted": true,
        "id": "m9jBKPoGGSzc"
      },
      "cell_type": "code",
      "source": [
        ""
      ],
      "execution_count": null,
      "outputs": []
    },
    {
      "metadata": {
        "trusted": true,
        "id": "mRBTPsZtGSzc"
      },
      "cell_type": "code",
      "source": [
        ""
      ],
      "execution_count": null,
      "outputs": []
    },
    {
      "metadata": {
        "trusted": true,
        "id": "jWPERV2-GSzc"
      },
      "cell_type": "code",
      "source": [
        ""
      ],
      "execution_count": null,
      "outputs": []
    },
    {
      "metadata": {
        "trusted": true,
        "id": "4DFoz9WCGSzc"
      },
      "cell_type": "code",
      "source": [
        ""
      ],
      "execution_count": null,
      "outputs": []
    },
    {
      "metadata": {
        "trusted": true,
        "id": "CDwZPn_uGSzd"
      },
      "cell_type": "code",
      "source": [
        ""
      ],
      "execution_count": null,
      "outputs": []
    },
    {
      "metadata": {
        "trusted": true,
        "id": "6ETeNn0lGSzd"
      },
      "cell_type": "code",
      "source": [
        ""
      ],
      "execution_count": null,
      "outputs": []
    },
    {
      "metadata": {
        "trusted": true,
        "id": "WiQHubbyGSzd",
        "outputId": "6b92dccd-ae90-428b-f9f9-005687eaab5b"
      },
      "cell_type": "code",
      "source": [
        "no_of_columns"
      ],
      "execution_count": null,
      "outputs": [
        {
          "data": {
            "text/plain": "4"
          },
          "execution_count": 33,
          "metadata": {},
          "output_type": "execute_result"
        }
      ]
    },
    {
      "metadata": {
        "trusted": true,
        "id": "FMOQRPIzGSze",
        "outputId": "afa81368-ad82-46b3-f74c-e14b73a7d84a"
      },
      "cell_type": "code",
      "source": [
        "no_of_rows"
      ],
      "execution_count": null,
      "outputs": [
        {
          "data": {
            "text/plain": "2"
          },
          "execution_count": 34,
          "metadata": {},
          "output_type": "execute_result"
        }
      ]
    },
    {
      "metadata": {
        "trusted": true,
        "id": "afayGlMmGSzf"
      },
      "cell_type": "code",
      "source": [
        ""
      ],
      "execution_count": null,
      "outputs": []
    },
    {
      "metadata": {
        "trusted": true,
        "id": "GFOpn8SaGSzf"
      },
      "cell_type": "code",
      "source": [
        ""
      ],
      "execution_count": null,
      "outputs": []
    },
    {
      "metadata": {
        "trusted": true,
        "id": "GBbVWRo_GSzf"
      },
      "cell_type": "code",
      "source": [
        ""
      ],
      "execution_count": null,
      "outputs": []
    },
    {
      "metadata": {
        "trusted": true,
        "id": "BpZd9660GSzf"
      },
      "cell_type": "code",
      "source": [
        ""
      ],
      "execution_count": null,
      "outputs": []
    },
    {
      "metadata": {
        "trusted": true,
        "id": "Y4PILDq_GSzf"
      },
      "cell_type": "code",
      "source": [
        ""
      ],
      "execution_count": null,
      "outputs": []
    },
    {
      "metadata": {
        "trusted": true,
        "id": "Ffx6ZwU7GSzg"
      },
      "cell_type": "code",
      "source": [
        ""
      ],
      "execution_count": null,
      "outputs": []
    },
    {
      "metadata": {
        "trusted": true,
        "id": "lWuRoEiFGSzg"
      },
      "cell_type": "code",
      "source": [
        ""
      ],
      "execution_count": null,
      "outputs": []
    },
    {
      "metadata": {
        "trusted": true,
        "id": "l0cpSFZmGSzg"
      },
      "cell_type": "code",
      "source": [
        ""
      ],
      "execution_count": null,
      "outputs": []
    },
    {
      "metadata": {
        "trusted": true,
        "id": "0ZiLIlkRGSzg"
      },
      "cell_type": "code",
      "source": [
        ""
      ],
      "execution_count": null,
      "outputs": []
    },
    {
      "metadata": {
        "trusted": true,
        "id": "0pq3zelJGSzg"
      },
      "cell_type": "code",
      "source": [
        ""
      ],
      "execution_count": null,
      "outputs": []
    },
    {
      "metadata": {
        "trusted": true,
        "id": "nspLZkFzGSzg",
        "outputId": "530d60f0-5bec-4f29-bec6-b6cbc64818cf"
      },
      "cell_type": "code",
      "source": [
        "df_table=pd.crosstab(df['East'],df['Observed Values'])\n",
        "df_table"
      ],
      "execution_count": null,
      "outputs": [
        {
          "data": {
            "text/html": "<div>\n<style scoped>\n    .dataframe tbody tr th:only-of-type {\n        vertical-align: middle;\n    }\n\n    .dataframe tbody tr th {\n        vertical-align: top;\n    }\n\n    .dataframe thead th {\n        text-align: right;\n    }\n</style>\n<table border=\"1\" class=\"dataframe\">\n  <thead>\n    <tr style=\"text-align: right;\">\n      <th>Observed Values</th>\n      <th>Females</th>\n      <th>Males</th>\n    </tr>\n    <tr>\n      <th>East</th>\n      <th></th>\n      <th></th>\n    </tr>\n  </thead>\n  <tbody>\n    <tr>\n      <th>50</th>\n      <td>0</td>\n      <td>1</td>\n    </tr>\n    <tr>\n      <th>435</th>\n      <td>1</td>\n      <td>0</td>\n    </tr>\n  </tbody>\n</table>\n</div>",
            "text/plain": "Observed Values  Females  Males\nEast                           \n50                     0      1\n435                    1      0"
          },
          "execution_count": 10,
          "metadata": {},
          "output_type": "execute_result"
        }
      ]
    },
    {
      "metadata": {
        "trusted": true,
        "id": "aPrbLP1UGSzh",
        "outputId": "74667c80-4434-45e1-d9ab-ddff139ad838"
      },
      "cell_type": "code",
      "source": [
        "df_table.values"
      ],
      "execution_count": null,
      "outputs": [
        {
          "data": {
            "text/plain": "array([[0, 1],\n       [1, 0]], dtype=int64)"
          },
          "execution_count": 11,
          "metadata": {},
          "output_type": "execute_result"
        }
      ]
    },
    {
      "metadata": {
        "trusted": true,
        "id": "pL02FufLGSzh"
      },
      "cell_type": "code",
      "source": [
        ""
      ],
      "execution_count": null,
      "outputs": []
    },
    {
      "metadata": {
        "trusted": true,
        "id": "4Zh24X1QGSzh"
      },
      "cell_type": "code",
      "source": [
        ""
      ],
      "execution_count": null,
      "outputs": []
    },
    {
      "metadata": {
        "trusted": true,
        "id": "XVqGJvVlGSzi"
      },
      "cell_type": "code",
      "source": [
        ""
      ],
      "execution_count": null,
      "outputs": []
    },
    {
      "metadata": {
        "trusted": true,
        "id": "58FNPq1JGSzi"
      },
      "cell_type": "code",
      "source": [
        ""
      ],
      "execution_count": null,
      "outputs": []
    },
    {
      "metadata": {
        "trusted": true,
        "id": "V69pJQtVGSzj"
      },
      "cell_type": "code",
      "source": [
        ""
      ],
      "execution_count": null,
      "outputs": []
    },
    {
      "metadata": {
        "trusted": true,
        "id": "YPuz76ydGSzj"
      },
      "cell_type": "code",
      "source": [
        ""
      ],
      "execution_count": null,
      "outputs": []
    },
    {
      "metadata": {
        "trusted": true,
        "id": "gJ5_YAbCGSzj"
      },
      "cell_type": "code",
      "source": [
        ""
      ],
      "execution_count": null,
      "outputs": []
    }
  ],
  "metadata": {
    "kernelspec": {
      "name": "python3",
      "display_name": "Python 3",
      "language": "python"
    },
    "language_info": {
      "name": "python",
      "version": "3.8.5",
      "mimetype": "text/x-python",
      "codemirror_mode": {
        "name": "ipython",
        "version": 3
      },
      "pygments_lexer": "ipython3",
      "nbconvert_exporter": "python",
      "file_extension": ".py"
    },
    "gist": {
      "id": "",
      "data": {
        "description": "Sales of products in four different regions is tabulated for males and females. Find if male-female buyer rations are similar across regions.",
        "public": true
      }
    },
    "colab": {
      "name": "69864628d3d299d04cfe64a705da31fc",
      "provenance": [],
      "include_colab_link": true
    }
  },
  "nbformat": 4,
  "nbformat_minor": 0
}