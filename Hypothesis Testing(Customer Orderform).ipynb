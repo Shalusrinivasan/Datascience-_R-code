{
  "cells": [
    {
      "cell_type": "markdown",
      "metadata": {
        "id": "view-in-github",
        "colab_type": "text"
      },
      "source": [
        "<a href=\"https://colab.research.google.com/github/Shalusrinivasan/Datascience-_R-code/blob/main/Hypothesis%20Testing.ipynb\" target=\"_parent\"><img src=\"https://colab.research.google.com/assets/colab-badge.svg\" alt=\"Open In Colab\"/></a>"
      ]
    },
    {
      "metadata": {
        "trusted": true,
        "id": "TowdDu6J8anh"
      },
      "cell_type": "code",
      "source": [
        "import pandas as pd\n",
        "from scipy import stats as stats\n",
        "from scipy.stats import chi2_contingency\n",
        "from scipy.stats import chi2"
      ],
      "execution_count": null,
      "outputs": []
    },
    {
      "metadata": {
        "trusted": true,
        "id": "AygZ8uSp8anq"
      },
      "cell_type": "code",
      "source": [
        "custom= pd.read_csv('C:/Users/Admin/Downloads/CustomerOrderForm.csv')"
      ],
      "execution_count": null,
      "outputs": []
    },
    {
      "metadata": {
        "trusted": true,
        "id": "bRpPuqnF8anr",
        "outputId": "f5f36303-79d9-4032-f42d-99081af79d3b"
      },
      "cell_type": "code",
      "source": [
        "custom.head()"
      ],
      "execution_count": null,
      "outputs": [
        {
          "data": {
            "text/html": "<div>\n<style scoped>\n    .dataframe tbody tr th:only-of-type {\n        vertical-align: middle;\n    }\n\n    .dataframe tbody tr th {\n        vertical-align: top;\n    }\n\n    .dataframe thead th {\n        text-align: right;\n    }\n</style>\n<table border=\"1\" class=\"dataframe\">\n  <thead>\n    <tr style=\"text-align: right;\">\n      <th></th>\n      <th>Phillippines</th>\n      <th>Indonesia</th>\n      <th>Malta</th>\n      <th>India</th>\n    </tr>\n  </thead>\n  <tbody>\n    <tr>\n      <th>0</th>\n      <td>Error Free</td>\n      <td>Error Free</td>\n      <td>Defective</td>\n      <td>Error Free</td>\n    </tr>\n    <tr>\n      <th>1</th>\n      <td>Error Free</td>\n      <td>Error Free</td>\n      <td>Error Free</td>\n      <td>Defective</td>\n    </tr>\n    <tr>\n      <th>2</th>\n      <td>Error Free</td>\n      <td>Defective</td>\n      <td>Defective</td>\n      <td>Error Free</td>\n    </tr>\n    <tr>\n      <th>3</th>\n      <td>Error Free</td>\n      <td>Error Free</td>\n      <td>Error Free</td>\n      <td>Error Free</td>\n    </tr>\n    <tr>\n      <th>4</th>\n      <td>Error Free</td>\n      <td>Error Free</td>\n      <td>Defective</td>\n      <td>Error Free</td>\n    </tr>\n  </tbody>\n</table>\n</div>",
            "text/plain": "  Phillippines   Indonesia       Malta       India\n0   Error Free  Error Free   Defective  Error Free\n1   Error Free  Error Free  Error Free   Defective\n2   Error Free   Defective   Defective  Error Free\n3   Error Free  Error Free  Error Free  Error Free\n4   Error Free  Error Free   Defective  Error Free"
          },
          "execution_count": 22,
          "metadata": {},
          "output_type": "execute_result"
        }
      ]
    },
    {
      "metadata": {
        "trusted": true,
        "id": "6IOOF3ED8anu",
        "outputId": "d48db2ed-7a22-4195-f662-f360a0ec6fe0"
      },
      "cell_type": "code",
      "source": [
        "print(custom['Phillippines'].value_counts(),custom['Indonesia'].value_counts(),custom['Malta'].value_counts(),custom['India'].value_counts())"
      ],
      "execution_count": null,
      "outputs": [
        {
          "name": "stdout",
          "output_type": "stream",
          "text": "Error Free    271\nDefective      29\nName: Phillippines, dtype: int64 Error Free    267\nDefective      33\nName: Indonesia, dtype: int64 Error Free    269\nDefective      31\nName: Malta, dtype: int64 Error Free    280\nDefective      20\nName: India, dtype: int64\n"
        }
      ]
    },
    {
      "metadata": {
        "trusted": true,
        "id": "v5ssE7ql8anw"
      },
      "cell_type": "code",
      "source": [
        "observed=([[271,267,269,280],[29,33,31,20]])"
      ],
      "execution_count": null,
      "outputs": []
    },
    {
      "metadata": {
        "trusted": true,
        "id": "Z2OPL4Ta8any",
        "outputId": "d420e895-9925-4123-8450-835061de899c"
      },
      "cell_type": "code",
      "source": [
        "observed"
      ],
      "execution_count": null,
      "outputs": [
        {
          "data": {
            "text/plain": "[[271, 267, 269, 280], [29, 33, 31, 20]]"
          },
          "execution_count": 42,
          "metadata": {},
          "output_type": "execute_result"
        }
      ]
    },
    {
      "metadata": {
        "trusted": true,
        "id": "pQnSi80q8anz"
      },
      "cell_type": "code",
      "source": [
        "stat, p, dof, expected = chi2_contingency([[271,267,269,280],[29,33,31,20]])"
      ],
      "execution_count": null,
      "outputs": []
    },
    {
      "metadata": {
        "trusted": true,
        "id": "HzFi--Dx8an0",
        "outputId": "74d4659a-3bf9-42fb-f197-ea8451cd7d77"
      },
      "cell_type": "code",
      "source": [
        "stat"
      ],
      "execution_count": null,
      "outputs": [
        {
          "data": {
            "text/plain": "3.858960685820355"
          },
          "execution_count": 35,
          "metadata": {},
          "output_type": "execute_result"
        }
      ]
    },
    {
      "metadata": {
        "trusted": true,
        "id": "lGxfOVE18an1",
        "outputId": "0f4b0cea-a481-4865-cc16-5ae2d84c2918"
      },
      "cell_type": "code",
      "source": [
        "p"
      ],
      "execution_count": null,
      "outputs": [
        {
          "data": {
            "text/plain": "0.2771020991233135"
          },
          "execution_count": 36,
          "metadata": {},
          "output_type": "execute_result"
        }
      ]
    },
    {
      "metadata": {
        "trusted": true,
        "id": "4wTte7wF8an2",
        "outputId": "c5203594-ff84-49dc-ec69-7aa94bb11e89"
      },
      "cell_type": "code",
      "source": [
        "print('dof=%d' % dof)\n",
        "print(expected)"
      ],
      "execution_count": null,
      "outputs": [
        {
          "name": "stdout",
          "output_type": "stream",
          "text": "dof=3\n[[271.75 271.75 271.75 271.75]\n [ 28.25  28.25  28.25  28.25]]\n"
        }
      ]
    },
    {
      "metadata": {
        "trusted": true,
        "id": "qyg7j7i78an3",
        "outputId": "02b68fba-5c38-442b-9337-45a61f120039"
      },
      "cell_type": "code",
      "source": [
        "alpha = 0.05\n",
        "prob=1-alpha\n",
        "critical = chi2.ppf(prob, dof)\n",
        "print('probability=%.3f, critical=%.3f, stat=%.3f' % (prob, critical, stat))\n",
        "if abs(stat) >= critical:\n",
        "\tprint('Dependent (reject H0),variables are related')\n",
        "else:\n",
        "\tprint('Independent (fail to reject H0), variables are not related')"
      ],
      "execution_count": null,
      "outputs": [
        {
          "name": "stdout",
          "output_type": "stream",
          "text": "probability=0.950, critical=7.815, stat=3.859\nIndependent (fail to reject H0), variables are not related\n"
        }
      ]
    },
    {
      "metadata": {
        "trusted": true,
        "id": "ifdkCADe8an4",
        "outputId": "72b4939c-faaf-4175-b1b5-a7d858da31c4"
      },
      "cell_type": "code",
      "source": [
        "print('significance=%.3f, p=%.3f' % (alpha, p))\n",
        "if p <= alpha:\n",
        "\tprint('Dependent (reject H0)')\n",
        "else:\n",
        "\tprint('Independent (fail to reject H0)')"
      ],
      "execution_count": null,
      "outputs": [
        {
          "name": "stdout",
          "output_type": "stream",
          "text": "significance=0.050, p=0.277\nIndependent (fail to reject H0)\n"
        }
      ]
    },
    {
      "metadata": {
        "trusted": true,
        "id": "wMdvOPbv8an5"
      },
      "cell_type": "code",
      "source": [
        ""
      ],
      "execution_count": null,
      "outputs": []
    }
  ],
  "metadata": {
    "kernelspec": {
      "name": "python3",
      "display_name": "Python 3",
      "language": "python"
    },
    "language_info": {
      "name": "python",
      "version": "3.8.5",
      "mimetype": "text/x-python",
      "codemirror_mode": {
        "name": "ipython",
        "version": 3
      },
      "pygments_lexer": "ipython3",
      "nbconvert_exporter": "python",
      "file_extension": ".py"
    },
    "gist": {
      "id": "",
      "data": {
        "description": "     TeleCall uses 4 centers around the globe to process customer order forms. They audit a certain %  of the customer order forms. Any error in order form renders it defective and has to be reworked before processing.  The manager wants to check whether the defective %  varies by centre. Please analyze the data at 5% significance level and help the manager draw appropriate inferences",
        "public": true
      }
    },
    "colab": {
      "name": "62e5a7c1053ac9b7f1416102ca27032a",
      "provenance": [],
      "include_colab_link": true
    }
  },
  "nbformat": 4,
  "nbformat_minor": 0
}
